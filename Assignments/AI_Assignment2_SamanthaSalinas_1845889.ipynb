{
  "nbformat": 4,
  "nbformat_minor": 0,
  "metadata": {
    "colab": {
      "provenance": [],
      "authorship_tag": "ABX9TyMVrufCidXGXPkuVBhAf3vr",
      "include_colab_link": true
    },
    "kernelspec": {
      "name": "python3",
      "display_name": "Python 3"
    },
    "language_info": {
      "name": "python"
    }
  },
  "cells": [
    {
      "cell_type": "markdown",
      "metadata": {
        "id": "view-in-github",
        "colab_type": "text"
      },
      "source": [
        "<a href=\"https://colab.research.google.com/github/samanthasalinassz/IA-IB-1845889/blob/main/Assignments/AI_Assignment2_SamanthaSalinas_1845889.ipynb\" target=\"_parent\"><img src=\"https://colab.research.google.com/assets/colab-badge.svg\" alt=\"Open In Colab\"/></a>"
      ]
    },
    {
      "cell_type": "markdown",
      "source": [
        "# **A2 Python Exercises.**\n",
        "\n",
        "*   Name: Samantha Itzel Salinas Sáenz\n",
        "*   ID: 1845889\n",
        "*   Thursday N4\n",
        "\n"
      ],
      "metadata": {
        "id": "vmEaIp29CrPv"
      }
    },
    {
      "cell_type": "markdown",
      "source": [
        "**1.**"
      ],
      "metadata": {
        "id": "QlXh7WtsrZXp"
      }
    },
    {
      "cell_type": "code",
      "execution_count": 4,
      "metadata": {
        "colab": {
          "base_uri": "https://localhost:8080/"
        },
        "id": "h-3nL5lTRF5s",
        "outputId": "09ee1ed2-2b84-4771-f727-2fa42b72f092"
      },
      "outputs": [
        {
          "output_type": "stream",
          "name": "stdout",
          "text": [
            "What's your name?\n",
            "Samantha\n",
            "Hi, Samantha, have a good day\n"
          ]
        }
      ],
      "source": [
        "from posixpath import join\n",
        "a=\"Ana\"\n",
        "j=\"John\"\n",
        "p=\"Peter\"\n",
        "print(\"What's your name?\")\n",
        "nom = input()\n",
        "if nom == a:\n",
        "  print(\"Error\")\n",
        "elif nom == j:\n",
        "  print(\"Error\")\n",
        "elif nom == p:\n",
        "  print(\"Error\")\n",
        "else:\n",
        "  print(f\"Hi, {nom}, have a good day\")\n"
      ]
    },
    {
      "cell_type": "markdown",
      "source": [
        "**2.**"
      ],
      "metadata": {
        "id": "49XB1KlmrYym"
      }
    },
    {
      "cell_type": "code",
      "source": [
        "list = [101, 102, 103, 104, 105, 106]\n",
        "print(list)\n",
        "print(\"The last element is: \",list[5])\n",
        "list.reverse()\n",
        "print(\"The list reverse is:\",list)"
      ],
      "metadata": {
        "colab": {
          "base_uri": "https://localhost:8080/"
        },
        "id": "WaOj07herC7w",
        "outputId": "75aa9c0f-2bbb-4b1f-83ae-f85dc6b07be4"
      },
      "execution_count": 40,
      "outputs": [
        {
          "output_type": "stream",
          "name": "stdout",
          "text": [
            "[101, 102, 103, 104, 105, 106]\n",
            "The last element is:  106\n",
            "The list reverse is: [106, 105, 104, 103, 102, 101]\n"
          ]
        }
      ]
    },
    {
      "cell_type": "markdown",
      "source": [
        "**3.**"
      ],
      "metadata": {
        "id": "73rDansX35Vf"
      }
    },
    {
      "cell_type": "code",
      "source": [
        "List = [\"Hi\",\"mr\",\"have\",\"a\",\"good\",\"day\",\":)\"]\n",
        "def Function1(l):\n",
        "    print(\"********\")\n",
        "    for x in List:\n",
        "      l = 5 - len(x) \n",
        "      print(\"* \" + x, end=\"\")\n",
        "      while l > 0:\n",
        "        print(\" \", end=\"\")\n",
        "        l -= 1\n",
        "      print(\"*\")\n",
        "    print(\"********\")\n",
        "\n",
        "Function1(List)"
      ],
      "metadata": {
        "colab": {
          "base_uri": "https://localhost:8080/"
        },
        "id": "fooQ0qbT6mYc",
        "outputId": "c88c5b25-c53e-48f5-bc90-bf295e318184"
      },
      "execution_count": 43,
      "outputs": [
        {
          "output_type": "stream",
          "name": "stdout",
          "text": [
            "********\n",
            "* Hi   *\n",
            "* mr   *\n",
            "* have *\n",
            "* a    *\n",
            "* good *\n",
            "* day  *\n",
            "* :)   *\n",
            "********\n"
          ]
        }
      ]
    }
  ]
}